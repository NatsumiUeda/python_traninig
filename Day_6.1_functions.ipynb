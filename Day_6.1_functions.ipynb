{
 "cells": [
  {
   "cell_type": "markdown",
   "metadata": {
    "vscode": {
     "languageId": "latex"
    }
   },
   "source": [
    "# Functions\n",
    "-reuse logics\n",
    "-Update the logic in one place"
   ]
  },
  {
   "cell_type": "code",
   "execution_count": null,
   "metadata": {},
   "outputs": [],
   "source": [
    "t1 = 3\n",
    "t2 = 4\n",
    "\n",
    "t_sum = t1 + t2 #logic\n",
    "\n",
    "print(t_sum)"
   ]
  },
  {
   "cell_type": "code",
   "execution_count": 4,
   "metadata": {},
   "outputs": [
    {
     "data": {
      "text/plain": [
       "11"
      ]
     },
     "execution_count": 4,
     "metadata": {},
     "output_type": "execute_result"
    }
   ],
   "source": [
    "#define function\n",
    "\n",
    "def add(n1,n2):\n",
    "    n_sum = n1 + n2\n",
    "    return round(n_sum,2) #return back to the call\n",
    "\n",
    "#add(5,6) #call the function"
   ]
  },
  {
   "cell_type": "code",
   "execution_count": 7,
   "metadata": {},
   "outputs": [
    {
     "data": {
      "text/plain": [
       "260.6767"
      ]
     },
     "execution_count": 8,
     "metadata": {},
     "output_type": "execute_result"
    }
   ],
   "source": [
    "print(add(15,20))\n",
    "print(add(150,200))\n",
    "print(add(60.5656,200.1111))\n"
   ]
  },
  {
   "cell_type": "markdown",
   "metadata": {},
   "source": [
    "###terms of function\n",
    "-Functio name def add..\n",
    "-function body\n",
    "-parameter  (n1,n2)..\n",
    "-argument print(add(15,20))\n",
    "-declaration\n",
    "-call\n"
   ]
  },
  {
   "cell_type": "code",
   "execution_count": 20,
   "metadata": {},
   "outputs": [
    {
     "name": "stdout",
     "output_type": "stream",
     "text": [
      "\n",
      "🥕\n",
      "🥕🥕\n",
      "🥕🥕🥕\n",
      "🥕🥕🥕🥕\n",
      "🥕🥕🥕🥕🥕\n",
      "🥕🥕🥕🥕🥕🥕\n"
     ]
    }
   ],
   "source": [
    "def fire(rows,emoji):\n",
    "    i = 0\n",
    "    while i <= rows: \n",
    "        print(emoji*i)\n",
    "        i = i + 1\n",
    "\n",
    "fire(6,\"🥕\")\n",
    "# fire(6)"
   ]
  },
  {
   "cell_type": "code",
   "execution_count": null,
   "metadata": {},
   "outputs": [],
   "source": [
    "shop = [\n",
    "    {\"name\": \"Apple\", \"quantity\": 30, \"price\": 0.50}, # 15\n",
    "    {\"name\": \"Banana\", \"quantity\": 20, \"price\": 0.20}, # 4\n",
    "]\n",
    "Tasks\n",
    " \n",
    " 1. `get_total_items(shop)` -> 50\n",
    " 2. `get_shop_value(shop)` -> 19"
   ]
  },
  {
   "cell_type": "code",
   "execution_count": 24,
   "metadata": {},
   "outputs": [
    {
     "name": "stdout",
     "output_type": "stream",
     "text": [
      "50\n"
     ]
    }
   ],
   "source": [
    "shop = [\n",
    "    {\"name\": \"Apple\", \"quantity\": 30, \"price\": 0.50}, # 15\n",
    "    {\"name\": \"Banana\", \"quantity\": 20, \"price\": 0.20}, # 4\n",
    "]\n",
    "\n",
    "shop_quantity = 0\n",
    "for stuff in shop:\n",
    "    shop_quantity = shop_quantity + stuff[\"quantity\"]\n",
    "\n",
    "print(shop_quantity)"
   ]
  },
  {
   "cell_type": "code",
   "execution_count": 29,
   "metadata": {},
   "outputs": [],
   "source": [
    "def get_total_items(shop):\n",
    "    shop_quantity = 0\n",
    "    for stuff in shop:\n",
    "        shop_quantity = shop_quantity + stuff[\"quantity\"]\n",
    "    return shop_quantity"
   ]
  },
  {
   "cell_type": "code",
   "execution_count": 35,
   "metadata": {},
   "outputs": [
    {
     "data": {
      "text/plain": [
       "50"
      ]
     },
     "execution_count": 35,
     "metadata": {},
     "output_type": "execute_result"
    }
   ],
   "source": [
    "def get_total_items(shop):\n",
    "    shop_quantity = [stuff[\"quantity\"] for stuff in shop]\n",
    "\n",
    "    return sum(shop_quantity)\n",
    "\n",
    "get_total_items(shop)"
   ]
  },
  {
   "cell_type": "code",
   "execution_count": 36,
   "metadata": {},
   "outputs": [
    {
     "data": {
      "text/plain": [
       "50"
      ]
     },
     "execution_count": 36,
     "metadata": {},
     "output_type": "execute_result"
    }
   ],
   "source": [
    "get_total_items(shop)"
   ]
  },
  {
   "cell_type": "code",
   "execution_count": 40,
   "metadata": {},
   "outputs": [
    {
     "data": {
      "text/plain": [
       "19.0"
      ]
     },
     "execution_count": 40,
     "metadata": {},
     "output_type": "execute_result"
    }
   ],
   "source": [
    "# 2. `get_shop_value(shop)` -> 19\n",
    "shop = [\n",
    "    {\"name\": \"Apple\", \"quantity\": 30, \"price\": 0.50},  # 15\n",
    "    {\"name\": \"Banana\", \"quantity\": 20, \"price\": 0.20},  # 4\n",
    "]\n",
    "\n",
    "\n",
    "def get_shop_value(shop):\n",
    "    shop_value = [item[\"quantity\"] * item[\"price\"] for item in shop]\n",
    "\n",
    "    return sum(shop_value)\n",
    "\n",
    "\n",
    "get_shop_value(shop)"
   ]
  },
  {
   "cell_type": "markdown",
   "metadata": {},
   "source": [
    "## Task 1\n",
    "`add_new_product(shop)`\n",
    "\n",
    "Expected Output\n",
    "```\n",
    "What is the product name? Orange\n",
    "What is the quantity? 50\n",
    "What is the price? 0.30\n",
    "Added Orange to shop.\n",
    "```\n",
    "\n",
    "`print(shop)`\n",
    "## Task 2\n",
    "\n",
    "Do you add more Y/N? Y\n",
    "## Task 3\n",
    "\n",
    "Main Menu\n",
    "1. Add Product\n",
    "2. Print all product in shop\n",
    "3. Exit"
   ]
  },
  {
   "cell_type": "code",
   "execution_count": null,
   "metadata": {},
   "outputs": [],
   "source": [
    "## Task 1\n",
    "#`add_new_product(shop)`\n",
    "\n",
    "#Expected Output\n",
    "#```\n",
    "#What is the product name? Orange\n",
    "#What is the quantity? 50\n",
    "#What is the price? 0.30\n",
    "#Added Orange to shop."
   ]
  },
  {
   "cell_type": "code",
   "execution_count": 43,
   "metadata": {},
   "outputs": [
    {
     "name": "stdout",
     "output_type": "stream",
     "text": [
      "Added Kiwi to shop.\n",
      "[{'name': 'Apple', 'quantity': 30, 'price': 0.5}, {'name': 'Banana', 'quantity': 20, 'price': 0.2}, {'name': 'Kiwi', 'quantity': '30', 'price': '0.2'}]\n"
     ]
    }
   ],
   "source": [
    "# shop = [\n",
    "#     {\"name\": \"Apple\", \"quantity\": 30, \"price\": 0.50},  \n",
    "#     {\"name\": \"Banana\", \"quantity\": 20, \"price\": 0.20},  \n",
    "# ]\n",
    "\n",
    "# new_items = {}\n",
    "\n",
    "# food_name = input(\"What is the product name?\")\n",
    "# food_quantity = input(\"What is the quantity?\")\n",
    "# food_price = input(\"What is the price?\")\n",
    "\n",
    "# new_items[\"name\"] = food_name\n",
    "# new_items[\"quantity\"] = food_quantity\n",
    "# new_items[\"price\"] = food_price\n",
    "\n",
    "# shop.append(new_items)\n",
    "# print(f\"Added {food_name} to shop.\")\n",
    "# print(shop)"
   ]
  },
  {
   "cell_type": "code",
   "execution_count": 48,
   "metadata": {},
   "outputs": [
    {
     "name": "stdout",
     "output_type": "stream",
     "text": [
      "[{'name': 'Apple', 'quantity': 30, 'price': 0.5}, {'name': 'Banana', 'quantity': 20, 'price': 0.2}, {'name': 'Lemon', 'quantity': 30, 'price': 0.2}]\n"
     ]
    }
   ],
   "source": [
    "#task2\n",
    "\n",
    "shop = [\n",
    "    {\"name\": \"Apple\", \"quantity\": 30, \"price\": 0.50},  # 15\n",
    "    {\"name\": \"Banana\", \"quantity\": 20, \"price\": 0.20},  # 4\n",
    "]\n",
    "\n",
    "def add_items(shop):\n",
    "    while True:\n",
    "        new_items = {}\n",
    "\n",
    "        food_name = input(\"What is the product name?\")\n",
    "        food_quantity = int(input(\"What is the quantity?\"))\n",
    "        food_price = float(input(\"What is the price?\"))\n",
    "\n",
    "        new_items[\"name\"] = food_name\n",
    "        new_items[\"quantity\"] = food_quantity\n",
    "        new_items[\"price\"] = food_price\n",
    "\n",
    "        shop.append(new_items)\n",
    "\n",
    "        answer = input(\"Do you add more Y/N?\")\n",
    "        \n",
    "        if answer == \"N\":\n",
    "         break\n",
    "\n",
    "add_items(shop)\n",
    "\n",
    "print(shop)\n"
   ]
  },
  {
   "cell_type": "markdown",
   "metadata": {},
   "source": [
    "Main Menu\n",
    "1. Add Product\n",
    "2. Print all product in shop\n",
    "3. Exit"
   ]
  },
  {
   "cell_type": "code",
   "execution_count": 49,
   "metadata": {},
   "outputs": [
    {
     "name": "stdout",
     "output_type": "stream",
     "text": [
      "[{'name': 'Apple', 'quantity': 30, 'price': 0.5}, {'name': 'Banana', 'quantity': 20, 'price': 0.2}, {'name': 'Orange', 'quantity': 50, 'price': 0.4}]\n",
      "[{'name': 'Apple', 'quantity': 30, 'price': 0.5}, {'name': 'Banana', 'quantity': 20, 'price': 0.2}, {'name': 'Orange', 'quantity': 50, 'price': 0.4}]\n"
     ]
    }
   ],
   "source": [
    "#task3\n",
    "\n",
    "shop = [\n",
    "    {\"name\": \"Apple\", \"quantity\": 30, \"price\": 0.50},  # 15\n",
    "    {\"name\": \"Banana\", \"quantity\": 20, \"price\": 0.20},  # 4\n",
    "]\n",
    "\n",
    "def add_new_product(shop):\n",
    "    name = input(\"What is the product name?\")\n",
    "    quantity = int(input(\"What is the quantity?\")) \n",
    "    price = float(input(\"What is the price?\"))\n",
    "    new_product = {\"name\": name, \"quantity\": quantity, \"price\": price}\n",
    "    shop.append(new_product)\n",
    "\n",
    "def add_main():\n",
    "    while True:\n",
    "\n",
    "        answer = input(\"Please sellect number 1 or 2 or 3?\")\n",
    "        \n",
    "        if answer == \"1\":\n",
    "            add_new_product(shop)\n",
    "        elif answer == \"2\":\n",
    "            print(shop)\n",
    "        else:\n",
    "            break\n",
    "\n",
    "add_main()"
   ]
  },
  {
   "cell_type": "code",
   "execution_count": null,
   "metadata": {},
   "outputs": [],
   "source": [
    "    "
   ]
  }
 ],
 "metadata": {
  "kernelspec": {
   "display_name": "Python 3",
   "language": "python",
   "name": "python3"
  },
  "language_info": {
   "codemirror_mode": {
    "name": "ipython",
    "version": 3
   },
   "file_extension": ".py",
   "mimetype": "text/x-python",
   "name": "python",
   "nbconvert_exporter": "python",
   "pygments_lexer": "ipython3",
   "version": "3.13.0"
  }
 },
 "nbformat": 4,
 "nbformat_minor": 2
}
