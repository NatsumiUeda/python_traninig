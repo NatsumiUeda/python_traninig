{
 "cells": [
  {
   "cell_type": "code",
   "execution_count": null,
   "metadata": {},
   "outputs": [],
   "source": [
    "marks = [ 90, 80, 60]\n",
    "\n",
    "# List Comprehension (Special)\n",
    "# Double all mark for each mark in marks (English)\n",
    "dbl_marks = [mark * 2 for mark in marks]\n",
    "dbl_marks\n",
    "# Filter with Comprehension\n",
    "\n",
    "marks = [ 90, 80, 60]\n",
    "\n",
    "#3 parts\n",
    "#(trans formation) (for loop)(Filter)\n",
    "\n",
    "# (Give the mark) (for each mark in marks) (where mark > 70)\n",
    "# (where mark > 70) -> filter\n",
    "highest_marks = [mark for mark in marks if mark > 70]\n",
    "\n",
    "highest_marks\n",
    "marks = [ 90, 80, 60]\n",
    "\n",
    "[mark * 2 for mark in marks if mark > 70]"
   ]
  }
 ],
 "metadata": {
  "language_info": {
   "name": "python"
  }
 },
 "nbformat": 4,
 "nbformat_minor": 2
}
