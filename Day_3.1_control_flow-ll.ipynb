{
 "cells": [
  {
   "cell_type": "code",
   "execution_count": 1,
   "metadata": {},
   "outputs": [
    {
     "name": "stdout",
     "output_type": "stream",
     "text": [
      "Yes, we have green tea in stock\n"
     ]
    }
   ],
   "source": [
    "#task 1.2\n",
    "# Shop\n",
    "stock1 = \"chocolate mint\"\n",
    "stock2 = \"vanilla\"\n",
    "stock3 = \"coffee\"\n",
    "stock4 = \"green tea\"\n",
    "\n",
    "# Expected Output\n",
    "# Yes, we have vanilla in stock\n",
    "\n",
    "# Sorry, we ran out strawberry\n",
    "\n",
    "users_fav = input(\"Which flavpor do you like? : \").lower()\n",
    "\n",
    "if  users_fav == stock1 or users_fav == stock2 or users_fav == stock3 or users_fav == stock4 :\n",
    "    print(f\"Yes, we have {users_fav} in stock\")\n",
    "\n",
    "else:\n",
    "    print(f\"Sorry, we ran out {users_fav}\")"
   ]
  },
  {
   "cell_type": "code",
   "execution_count": 3,
   "metadata": {},
   "outputs": [
    {
     "name": "stdout",
     "output_type": "stream",
     "text": [
      "hello\n"
     ]
    }
   ],
   "source": [
    "print(\"hello\")"
   ]
  },
  {
   "cell_type": "code",
   "execution_count": null,
   "metadata": {},
   "outputs": [],
   "source": []
  },
  {
   "cell_type": "markdown",
   "metadata": {},
   "source": [
    "# control flow II \n",
    "\n",
    "## Slice Operator\n",
    "\n",
    "`quote[start:end:skip]` \n",
    "\n",
    "- Extracts part of a string\n",
    "- Arguments\n",
    "  - `start` by default *starts* with 0\n",
    "  - `end` value is **excluded**\n",
    "  - `skip` skips letter\n",
    "\n"
   ]
  }
 ],
 "metadata": {
  "kernelspec": {
   "display_name": "Python 3",
   "language": "python",
   "name": "python3"
  },
  "language_info": {
   "codemirror_mode": {
    "name": "ipython",
    "version": 3
   },
   "file_extension": ".py",
   "mimetype": "text/x-python",
   "name": "python",
   "nbconvert_exporter": "python",
   "pygments_lexer": "ipython3",
   "version": "3.13.0"
  }
 },
 "nbformat": 4,
 "nbformat_minor": 2
}
