{
 "cells": [
  {
   "cell_type": "code",
   "execution_count": null,
   "metadata": {},
   "outputs": [],
   "source": [
    "# tuple Immutable (cannot change)\n",
    "# same as list but cannot modify (cannnot mutate)"
   ]
  },
  {
   "cell_type": "code",
   "execution_count": 1,
   "metadata": {},
   "outputs": [
    {
     "data": {
      "text/plain": [
       "[60, 70, 90, 40]"
      ]
     },
     "execution_count": 1,
     "metadata": {},
     "output_type": "execute_result"
    }
   ],
   "source": [
    "marks = [60,70,90,40] #list\n",
    "marks[0] = 100\n",
    "\n",
    "print(marks)\n",
    "\n",
    "#modifies list\n",
    "#append insert pop remove"
   ]
  },
  {
   "cell_type": "code",
   "execution_count": null,
   "metadata": {},
   "outputs": [],
   "source": [
    "marks1 = (80,70,90,40,80) #tuple\n",
    "marks1[0] #error"
   ]
  },
  {
   "cell_type": "code",
   "execution_count": 2,
   "metadata": {},
   "outputs": [
    {
     "ename": "NameError",
     "evalue": "name 'marks1' is not defined",
     "output_type": "error",
     "traceback": [
      "\u001b[1;31m---------------------------------------------------------------------------\u001b[0m",
      "\u001b[1;31mNameError\u001b[0m                                 Traceback (most recent call last)",
      "Cell \u001b[1;32mIn[2], line 1\u001b[0m\n\u001b[1;32m----> 1\u001b[0m \u001b[38;5;28mprint\u001b[39m(\u001b[43mmarks1\u001b[49m[\u001b[38;5;241m0\u001b[39m:\u001b[38;5;241m3\u001b[39m]) \u001b[38;5;66;03m#slice dose not modify\u001b[39;00m\n\u001b[0;32m      2\u001b[0m \u001b[38;5;28mprint\u001b[39m(marks1\u001b[38;5;241m.\u001b[39mcount(\u001b[38;5;241m80\u001b[39m)) \u001b[38;5;66;03m#count occores\u001b[39;00m\n",
      "\u001b[1;31mNameError\u001b[0m: name 'marks1' is not defined"
     ]
    }
   ],
   "source": [
    "print(marks1[0:3]) #slice dose not modify\n",
    "print(marks1.count(80)) #count occores"
   ]
  },
  {
   "cell_type": "code",
   "execution_count": null,
   "metadata": {},
   "outputs": [],
   "source": [
    "# unpacking\n",
    "a,b,c = (10,50,80) #taple\n",
    "print(a,b,c)"
   ]
  },
  {
   "cell_type": "code",
   "execution_count": null,
   "metadata": {},
   "outputs": [],
   "source": [
    "#skip\n",
    "\n",
    "t1,t2,_,t4 = (60,80,70,90) #unpacking\n",
    "\n",
    "print(t1,t2,t4)"
   ]
  },
  {
   "cell_type": "code",
   "execution_count": 6,
   "metadata": {},
   "outputs": [
    {
     "name": "stdout",
     "output_type": "stream",
     "text": [
      "🦸‍♂️ Batman 🦸‍♂️ Superman\n"
     ]
    }
   ],
   "source": [
    "# unpacking only Batman & Superman\n",
    "[\"🦸‍♂️ Batman\", \"🦸‍♂️ Superman\", \"🦹‍♂️ Joker\", \"🦹‍♀️ Harley Quinn\"]\n",
    "\n",
    "Heroes = [\"🦸‍♂️ Batman\", \"🦸‍♂️ Superman\", \"🦹‍♂️ Joker\", \"🦹‍♀️ Harley Quinn\"]\n",
    "Batman,Superman,Joker,HarleyQuinn = Heroes\n",
    "\n",
    " \n",
    "print(Batman, Superman)"
   ]
  },
  {
   "cell_type": "code",
   "execution_count": 8,
   "metadata": {},
   "outputs": [
    {
     "name": "stdout",
     "output_type": "stream",
     "text": [
      "🦸‍♂️ Batman 🦸‍♂️ Superman 🦹‍♀️ Harley Quinn\n"
     ]
    }
   ],
   "source": [
    "# unpacking only Batman & Superman\n",
    "[\"🦸‍♂️ Batman\", \"🦸‍♂️ Superman\", \"🦹‍♂️ Joker\", \"🦹‍♀️ Harley Quinn\"]\n",
    "\n",
    "Heroes = [\"🦸‍♂️ Batman\", \"🦸‍♂️ Superman\", \"🦹‍♂️ Joker\", \"🦹‍♀️ Harley Quinn\"]\n",
    "Batman,Superman,_,_ = Heroes #_ dont use\n",
    "\n",
    " \n",
    "print(Batman, Superman)"
   ]
  },
  {
   "cell_type": "code",
   "execution_count": 30,
   "metadata": {},
   "outputs": [
    {
     "name": "stdout",
     "output_type": "stream",
     "text": [
      "distances = [5.0, 13.4, 16.4]\n"
     ]
    }
   ],
   "source": [
    "#Task1.1(without unpacking)\n",
    "\n",
    "points = [(3,4),(6,12),(10,13)]\n",
    "distances = []\n",
    "\n",
    "for x,y in points:\n",
    "    calicurate= x**2 + y**2\n",
    "    devide = round(calicurate ** 0.5, 1)\n",
    "    distances.append(devide)\n",
    "\n",
    "print(f\"distances = {distances}\")\n",
    "\n",
    "#expected output\n",
    "#distances()\n"
   ]
  },
  {
   "cell_type": "code",
   "execution_count": 31,
   "metadata": {},
   "outputs": [
    {
     "name": "stdout",
     "output_type": "stream",
     "text": [
      "distances = [5.0, 13.4, 16.4]\n"
     ]
    }
   ],
   "source": [
    "distances = [round((point[0]**2 + point[1]**2)**0.5, 1) for point in points]\n",
    "print(f\"distances = {distances}\")"
   ]
  }
 ],
 "metadata": {
  "kernelspec": {
   "display_name": "Python 3",
   "language": "python",
   "name": "python3"
  },
  "language_info": {
   "codemirror_mode": {
    "name": "ipython",
    "version": 3
   },
   "file_extension": ".py",
   "mimetype": "text/x-python",
   "name": "python",
   "nbconvert_exporter": "python",
   "pygments_lexer": "ipython3",
   "version": "3.13.0"
  }
 },
 "nbformat": 4,
 "nbformat_minor": 2
}
