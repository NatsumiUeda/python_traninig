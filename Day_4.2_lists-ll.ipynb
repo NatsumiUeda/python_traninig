{
 "cells": [
  {
   "cell_type": "code",
   "execution_count": 21,
   "metadata": {},
   "outputs": [
    {
     "data": {
      "text/plain": [
       "['🍎', '🍊', '🍓', '🍎', '🍊', '🍓']"
      ]
     },
     "execution_count": 21,
     "metadata": {},
     "output_type": "execute_result"
    }
   ],
   "source": [
    "fruits = [\"🍎\",\"🍊\",\"🍓\"]\n",
    "vegetables = [\"🥕\",\"🥒\",]\n",
    "\n",
    "fruits*2"
   ]
  },
  {
   "cell_type": "code",
   "execution_count": 22,
   "metadata": {},
   "outputs": [
    {
     "data": {
      "text/plain": [
       "'🍎🍎🍎🍎🍎🍎🍎🍎🍎🍎'"
      ]
     },
     "execution_count": 22,
     "metadata": {},
     "output_type": "execute_result"
    }
   ],
   "source": [
    "\"🍎\"*10"
   ]
  },
  {
   "cell_type": "code",
   "execution_count": 23,
   "metadata": {},
   "outputs": [
    {
     "data": {
      "text/plain": [
       "'🥕, 🥒, 🍆, 🥔'"
      ]
     },
     "execution_count": 23,
     "metadata": {},
     "output_type": "execute_result"
    }
   ],
   "source": [
    "vegetables = [\"🥕\",\"🥒\",\"🍆\",\"🥔\"]\n",
    "#change data type\n",
    "#out put\n",
    "#\"🥕,🥒,🍆,🥔\"\n",
    "\n",
    "\", \".join(vegetables)\n"
   ]
  },
  {
   "cell_type": "code",
   "execution_count": 1,
   "metadata": {},
   "outputs": [
    {
     "data": {
      "text/plain": [
       "['mint', 'chocolate', 'vanilla']"
      ]
     },
     "execution_count": 1,
     "metadata": {},
     "output_type": "execute_result"
    }
   ],
   "source": [
    "ice_creams = \"mint,chocolate,vanilla\"\n",
    "\n",
    "ice_creams.split(\",\")"
   ]
  },
  {
   "cell_type": "markdown",
   "metadata": {},
   "source": [
    "## strin to list (conversion)\n",
    "- `split()`\n",
    "- `split`"
   ]
  },
  {
   "cell_type": "code",
   "execution_count": 26,
   "metadata": {},
   "outputs": [
    {
     "name": "stdout",
     "output_type": "stream",
     "text": [
      "[100, 200, 300, 500]\n",
      "[100, 200, 400]\n",
      "[100, 200, 300, 500]\n"
     ]
    }
   ],
   "source": [
    "nums1 = [100,200]\n",
    "nums2 = [100,200]\n",
    "nums3 = nums1 #twin copy by reference | refer to same location\n",
    "\n",
    "nums1.append(300)\n",
    "nums2.append(400)\n",
    "nums3.append(500)\n",
    "\n",
    "print(nums1)\n",
    "print(nums2)\n",
    "print(nums3)\n",
    "\n",
    "#why?"
   ]
  },
  {
   "cell_type": "code",
   "execution_count": null,
   "metadata": {},
   "outputs": [],
   "source": []
  }
 ],
 "metadata": {
  "kernelspec": {
   "display_name": "Python 3",
   "language": "python",
   "name": "python3"
  },
  "language_info": {
   "codemirror_mode": {
    "name": "ipython",
    "version": 3
   },
   "file_extension": ".py",
   "mimetype": "text/x-python",
   "name": "python",
   "nbconvert_exporter": "python",
   "pygments_lexer": "ipython3",
   "version": "3.13.0"
  }
 },
 "nbformat": 4,
 "nbformat_minor": 2
}
