{
 "cells": [
  {
   "cell_type": "code",
   "execution_count": 7,
   "metadata": {},
   "outputs": [
    {
     "name": "stdout",
     "output_type": "stream",
     "text": [
      "<built-in method values of dict object at 0x0000012A4BE4B900>\n"
     ]
    }
   ],
   "source": [
    "luffy = {\n",
    "     \"name\" : \"Monkey D. Luffy\",\n",
    "     \"age\" : 19 ,\n",
    "     \"crew_name\": \"Straw hat pirates\",\n",
    "     \"crew\":[\"Zoro\",\"Nami\",\"Chopper\"],\n",
    "     \"position\":\"Captain\"\n",
    "\n",
    "}\n",
    "\n",
    "#Key - \"name\",\"age\"...\n",
    "#Value - \"Monkey D. Luffy\", 19\n",
    "\n",
    "#luffy[\"age\"]\n",
    "#luffy.keys()\n",
    "#luffy.values()\n",
    "\n",
    "luffy[\"age\"]=20\n",
    "print(luffy.values)"
   ]
  },
  {
   "cell_type": "code",
   "execution_count": 10,
   "metadata": {},
   "outputs": [],
   "source": [
    "luffy[\"age\"] = luffy[\"age\"] + 1 #current_value + 1"
   ]
  },
  {
   "cell_type": "code",
   "execution_count": 25,
   "metadata": {},
   "outputs": [
    {
     "name": "stdout",
     "output_type": "stream",
     "text": [
      "['Infinite Jest', 'The Catcher in the Rye', 'Sapiens', 'A Brief History of Time', 'Clean Code']\n"
     ]
    }
   ],
   "source": [
    "## Task 1.1\n",
    "#Please provide the list of book titles\n",
    "\n",
    "books = [\n",
    "    {\"title\": \"Infinite Jest\", \"rating\": 4.5, \"genre\": \"Fiction\"},\n",
    "    {\"title\": \"The Catcher in the Rye\", \"rating\": 3.9, \"genre\": \"Fiction\"},\n",
    "    {\"title\": \"Sapiens\", \"rating\": 4.9, \"genre\": \"History\"},\n",
    "    {\"title\": \"A Brief History of Time\", \"rating\": 4.8, \"genre\": \"Science\"},\n",
    "    {\"title\": \"Clean Code\", \"rating\": 4.7, \"genre\": \"Technology\"},\n",
    "]\n",
    "\n",
    "\n",
    "### Expected Output\n",
    "\n",
    "[\"Infinite Jest\",  \"The Catcher in the Rye\", \"Sapiens\",  \"A Brief History of Time\",  \"Clean Code\"]\n",
    "title =[]\n",
    "\n",
    "for dictionary in books:\n",
    "    title.append(dictionary[\"title\"])\n",
    "\n",
    "print(title)"
   ]
  },
  {
   "cell_type": "code",
   "execution_count": 32,
   "metadata": {},
   "outputs": [
    {
     "name": "stdout",
     "output_type": "stream",
     "text": [
      "['Infinite Jest', 'The Catcher in the Rye']\n"
     ]
    }
   ],
   "source": [
    "## Task 1.2\n",
    "#Please provide the only Fiction books\n",
    "\n",
    "\n",
    "### Expected Output\n",
    "\n",
    "[\"Infinite Jest\",  \"The Catcher in the Rye\"]\n",
    "\n",
    "books = [\n",
    "    {\"title\": \"Infinite Jest\", \"rating\": 4.5, \"genre\": \"Fiction\"},\n",
    "    {\"title\": \"The Catcher in the Rye\", \"rating\": 3.9, \"genre\": \"Fiction\"},\n",
    "    {\"title\": \"Sapiens\", \"rating\": 4.9, \"genre\": \"History\"},\n",
    "    {\"title\": \"A Brief History of Time\", \"rating\": 4.8, \"genre\": \"Science\"},\n",
    "    {\"title\": \"Clean Code\", \"rating\": 4.7, \"genre\": \"Technology\"},\n",
    "]\n",
    "\n",
    "\n",
    "### Expected Output\n",
    "#[\"Infinite Jest\",  \"The Catcher in the Rye\", \"Sapiens\",  \"A Brief History of Time\",  \"Clean Code\"]\n",
    "title1 =[]\n",
    "\n",
    "for book in books:\n",
    "    if book[\"genre\"] == \"Fiction\":\n",
    "         title1.append(book[\"title\"])\n",
    "\n",
    "print(title1)"
   ]
  },
  {
   "cell_type": "code",
   "execution_count": 38,
   "metadata": {},
   "outputs": [
    {
     "name": "stdout",
     "output_type": "stream",
     "text": [
      "Highest rated books are: ['Sapiens', 'A Brief History of Time', 'Clean Code']\n"
     ]
    }
   ],
   "source": [
    "## Task 1.3\n",
    "#Please provide Highest rated books (>= 4.7)\n",
    "\n",
    "\n",
    "### Expected Output\n",
    "#Highest rated books are: Sapiens, A Brief History of Time and Clean Code \n",
    "books = [\n",
    "    {\"title\": \"Infinite Jest\", \"rating\": 4.5, \"genre\": \"Fiction\"},\n",
    "    {\"title\": \"The Catcher in the Rye\", \"rating\": 3.9, \"genre\": \"Fiction\"},\n",
    "    {\"title\": \"Sapiens\", \"rating\": 4.9, \"genre\": \"History\"},\n",
    "    {\"title\": \"A Brief History of Time\", \"rating\": 4.8, \"genre\": \"Science\"},\n",
    "    {\"title\": \"Clean Code\", \"rating\": 4.7, \"genre\": \"Technology\"},\n",
    "]\n",
    "\n",
    "title2 =[]\n",
    "\n",
    "for book in books:\n",
    "    if book[\"rating\"] >= 4.7 :\n",
    "         title2.append(book[\"title\"])\n",
    "\n",
    "print(f\"Highest rated books are: {title2}\")"
   ]
  },
  {
   "cell_type": "code",
   "execution_count": 42,
   "metadata": {},
   "outputs": [
    {
     "name": "stdout",
     "output_type": "stream",
     "text": [
      "Highest rated books are: Sapiens, A Brief History of Time and Clean Code\n"
     ]
    }
   ],
   "source": [
    "## Task 1.4\n",
    "#Get fav genre from user\n",
    "\n",
    "### Expected Output\n",
    "\n",
    "#Genre? Fiction\n",
    "#Average rating of Fiction: 4.2\n",
    "#```\n",
    "books = [\n",
    "    {\"title\": \"Infinite Jest\", \"rating\": 4.5, \"genre\": \"Fiction\"},\n",
    "    {\"title\": \"The Catcher in the Rye\", \"rating\": 3.9, \"genre\": \"Fiction\"},\n",
    "    {\"title\": \"Sapiens\", \"rating\": 4.9, \"genre\": \"History\"},\n",
    "    {\"title\": \"A Brief History of Time\", \"rating\": 4.8, \"genre\": \"Science\"},\n",
    "    {\"title\": \"Clean Code\", \"rating\": 4.7, \"genre\": \"Technology\"},\n",
    "]\n",
    "\n",
    "titles = []\n",
    "for book in books:\n",
    "    if book['rating'] >= 4.7:\n",
    "        titles.append(book['title'])\n",
    "\n",
    "output = \", \".join(titles[0:-1]) + \" and \" + titles[-1]\n",
    "\n",
    "print(f\"Highest rated books are: {output}\")\n",
    "\n",
    "# Hint\n",
    "# Slice & Join\n",
    "\n",
    "# [a, b, c, d]  -> a, b, c and d"
   ]
  },
  {
   "cell_type": "code",
   "execution_count": 55,
   "metadata": {},
   "outputs": [
    {
     "name": "stdout",
     "output_type": "stream",
     "text": [
      "Average rating of fiction: 4.2\n"
     ]
    }
   ],
   "source": [
    "#task 1.4\n",
    "#Genre? Fiction\n",
    "#Average rating of Fiction: 4.2\n",
    "books = [\n",
    "    {\"title\": \"Infinite Jest\", \"rating\": 4.5, \"genre\": \"Fiction\"},\n",
    "    {\"title\": \"The Catcher in the Rye\", \"rating\": 3.9, \"genre\": \"Fiction\"},\n",
    "    {\"title\": \"Sapiens\", \"rating\": 4.9, \"genre\": \"History\"},\n",
    "    {\"title\": \"A Brief History of Time\", \"rating\": 4.8, \"genre\": \"Science\"},\n",
    "    {\"title\": \"Clean Code\", \"rating\": 4.7, \"genre\": \"Technology\"},\n",
    "]\n",
    "\n",
    "user_fav = input(\"Which genre do you want to read ? \")\n",
    "rates = 0\n",
    "counter = 0\n",
    "\n",
    "for book in books :\n",
    "    if book[\"genre\"].lower() == user_fav.lower() :\n",
    "        rates = rates + book['rating']\n",
    "        counter = counter + 1\n",
    "    \n",
    "if counter == 0 :\n",
    "    print(f\"We don't have the {user_fav}.\")\n",
    "\n",
    "else :\n",
    "    average = rates/counter\n",
    "    print(f\"Average rating of {user_fav}: {average}\") "
   ]
  }
 ],
 "metadata": {
  "kernelspec": {
   "display_name": "Python 3",
   "language": "python",
   "name": "python3"
  },
  "language_info": {
   "codemirror_mode": {
    "name": "ipython",
    "version": 3
   },
   "file_extension": ".py",
   "mimetype": "text/x-python",
   "name": "python",
   "nbconvert_exporter": "python",
   "pygments_lexer": "ipython3",
   "version": "3.13.0"
  }
 },
 "nbformat": 4,
 "nbformat_minor": 2
}
