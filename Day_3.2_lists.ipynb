{
 "cells": [
  {
   "cell_type": "code",
   "execution_count": null,
   "metadata": {},
   "outputs": [],
   "source": [
    "mark1 = 60\n",
    "mark2 = 80\n",
    "mark3 = 70"
   ]
  },
  {
   "cell_type": "markdown",
   "metadata": {},
   "source": [
    "####List\n",
    "Holds multiple values\n",
    "\n",
    "#####CRUD\n",
    "##### Creat marks = [60, 80, 70, 90, 50]\n",
    "##### Read \n",
    "##### Update\n",
    "##### Delete \n",
    "\n",
    "\n",
    "##### CRUD\n",
    "- Create ✅  - `marks = [80, 90, 100, 60, 85]`\n",
    "- Read   ✅  - `index`, `negative index` & `slice (:)`\n",
    "- Update ✅  - `index`, `append` &  `insert` \n",
    "- Delete ✅  - `remove` & `pop`"
   ]
  },
  {
   "cell_type": "code",
   "execution_count": 23,
   "metadata": {},
   "outputs": [
    {
     "name": "stdout",
     "output_type": "stream",
     "text": [
      "[60, 80, 70, 90, 50]\n"
     ]
    },
    {
     "data": {
      "text/plain": [
       "[60, 70, 90, 50, 80]"
      ]
     },
     "execution_count": 23,
     "metadata": {},
     "output_type": "execute_result"
    }
   ],
   "source": [
    "marks = [60, 80, 70, 90, 50]\n",
    "print(marks)\n",
    "\n",
    "###read\n",
    "marks[1] # reading values\n",
    "\n",
    "marks[-1] #\n",
    "\n",
    "marks[2:] #slice\n",
    "\n",
    "marks[::-1] #reversing the list\n",
    "\n",
    "marks[1]=95  #update \n",
    " \n",
    "marks.append(80)#add last\n",
    "\n",
    "marks.insert(0,70) #  insert in anywhere\n",
    "\n",
    "marks.pop(2)       #delete pop() remove() #based on index\n",
    "\n",
    "marks.remove(70) #based on value~\n",
    "\n",
    "marks"
   ]
  },
  {
   "cell_type": "code",
   "execution_count": 17,
   "metadata": {},
   "outputs": [
    {
     "name": "stdout",
     "output_type": "stream",
     "text": [
      "0 Hello kitty\n",
      "1 Goku\n",
      "2 Pikachu\n",
      "3 Luffy\n",
      "4 Yuji Itadori\n",
      "5 Levi\n"
     ]
    }
   ],
   "source": [
    "characters = ['Hello kitty', 'Goku', 'Pikachu', 'Luffy', 'Yuji Itadori', \"Levi\"]\n",
    "\n",
    "\n",
    "for i in range(len(characters)):\n",
    "    print(i, characters[i])\n",
    "\n",
    "\n",
    "# Clue: len()"
   ]
  },
  {
   "cell_type": "code",
   "execution_count": 30,
   "metadata": {},
   "outputs": [
    {
     "name": "stdout",
     "output_type": "stream",
     "text": [
      "4000\n",
      "[4000, 6000, 8000, 3000, 9000]\n"
     ]
    }
   ],
   "source": [
    "# Task 1.1: Double the power\n",
    "powers = [2000, 3000, 4000, 1500, 4500]\n",
    "\n",
    "# Output\n",
    "# powers -> [4000, 6000, 8000, 3000, 9000]\n",
    "\n",
    "print(powers[0]*2)\n",
    "\n",
    "\n",
    "for i in range(5):\n",
    "    powers[i] = powers[i]*2\n",
    "    \n",
    "print(powers)\n",
    "\n",
    "# Task 1.2: Double the power\n",
    "#powers = [2000, 3000, 4000, 1500, 4500]\n",
    "\n",
    "\n",
    "# Output\n",
    "# doubled_powers -> [4000, 6000, 8000, 3000, 9000]\n",
    "# powers -> [2000, 3000, 4000, 1500, 4500]"
   ]
  },
  {
   "cell_type": "code",
   "execution_count": 37,
   "metadata": {},
   "outputs": [
    {
     "name": "stdout",
     "output_type": "stream",
     "text": [
      "[4000, 6000, 8000, 3000, 9000]\n",
      "[2000, 3000, 4000, 1500, 4500]\n"
     ]
    }
   ],
   "source": [
    "\n",
    "# Task 1.2: Double the power\n",
    "powers = [2000, 3000, 4000, 1500, 4500]\n",
    "doubled_power = []\n",
    "\n",
    "for i in range(5):\n",
    "    doubled_power.append(powers[i]*2) \n",
    "   \n",
    "print(doubled_power)\n",
    "print(powers)\n",
    "# Output\n",
    "# doubled_powers -> [4000, 6000, 8000, 3000, 9000]\n",
    "# powers -> [2000, 3000, 4000, 1500, 4500]"
   ]
  },
  {
   "cell_type": "code",
   "execution_count": 42,
   "metadata": {},
   "outputs": [
    {
     "name": "stdout",
     "output_type": "stream",
     "text": [
      "['Hello kitty', 'Pikachu', 'Yuji Itadori']\n"
     ]
    }
   ],
   "source": [
    "## Task 2.1\n",
    "#Find longer names (>= 6 letter)\n",
    "\n",
    "characters = ['Hello kitty', 'Goku', 'Pikachu', 'Luffy', 'Yuji Itadori', \"Levi\"]\n",
    "longer_names = []\n",
    "\n",
    "#Expected Output\n",
    "#`['Hello kitty', 'Pikachu', 'Yuji Itadori']`\n",
    "for i in range(len(characters)):\n",
    "    if len(characters[i]) >= 6 :\n",
    "        longer_names.append(characters[i])\n",
    "    \n",
    "\n",
    "print(longer_names)\n"
   ]
  },
  {
   "cell_type": "markdown",
   "metadata": {},
   "source": [
    "## Task 2.2\n",
    "\n",
    "#Calculate the total of shopping_items & apply tax of 10%\n",
    "\n",
    "shopping_items = [1000, 5000,  4000, 2000, 3000]\n",
    "\n",
    "#Expected Output\n",
    "\n",
    "```\n",
    "Your totals is 15,000\n",
    "Tax is 10%      1,500 \n",
    "Your grand total is 16,500\n",
    "```"
   ]
  },
  {
   "cell_type": "code",
   "execution_count": null,
   "metadata": {},
   "outputs": [],
   "source": [
    "longer_names = []\n",
    "\n",
    "for i in range(len(characters)): # i -> index\n",
    "    if(len(characters[i]) >= 6):\n",
    "        longer_names.append(characters[i])\n",
    "\n",
    "print(longer_names)"
   ]
  },
  {
   "cell_type": "code",
   "execution_count": 60,
   "metadata": {},
   "outputs": [
    {
     "name": "stdout",
     "output_type": "stream",
     "text": [
      "Your totals is 15,000 #UX\n",
      "Tax is 10% 1,500.0\n",
      "Your gland total is 16,500.0\n"
     ]
    }
   ],
   "source": [
    "shopping_items = [1_000, 5_000,  4_000, 2_000, 3_000] #DX #numeric separrator _\n",
    "shopping_total = shopping_tax = shopping_grand_total = 0\n",
    "\n",
    "for i in range(len(shopping_items)):\n",
    "    shopping_total = shopping_total + shopping_items[i]\n",
    "    shopping_tax = shopping_tax + shopping_items[i]*0.1\n",
    "\n",
    "shopping_grand_total = shopping_total + shopping_tax\n",
    "print(f\"\"\"Your totals is {shopping_total:,}          \n",
    "Tax is 10% {shopping_tax:,}\n",
    "Your gland total is {shopping_grand_total:,}\"\"\")#UX"
   ]
  },
  {
   "cell_type": "code",
   "execution_count": 52,
   "metadata": {},
   "outputs": [
    {
     "name": "stdout",
     "output_type": "stream",
     "text": [
      "Hello kitty\n",
      "Goku\n",
      "Pikachu\n",
      "Luffy\n",
      "Yuji Itadori\n",
      "Levi\n"
     ]
    }
   ],
   "source": [
    "characters = ['Hello kitty', 'Goku', 'Pikachu', 'Luffy', 'Yuji Itadori', \"Levi\"]\n",
    "\n",
    "for character in characters:  value\n",
    "    print(character)\n",
    "\n",
    "# ctrl + SPACE -> AUTOCOMPLETE COMPLETE WORD -> TAB\n",
    "\n",
    "# multi line string\n",
    "#print(\"\"\" \n",
    "#this\n",
    "#this\n",
    "#flowers:{folowers}\n",
    "# \"\"\")"
   ]
  },
  {
   "cell_type": "code",
   "execution_count": null,
   "metadata": {},
   "outputs": [],
   "source": [
    "# Numeric separator ✅\n",
    "shopping_items = [1_000, 5_000,  4_000, 2_000, 3_000] # DX ⬆️\n",
    "tax_percent = 0.1 \n",
    "\n",
    "total = 0\n",
    "for item in shopping_items:  # DX ⬆️ ✅\n",
    "    total = total + item\n",
    "\n",
    "tax = total * tax_percent\n",
    "grand_total = total +  tax\n",
    "# ctrl + space -> Autocomplete | Complete word -> tab\n",
    "\n",
    "# Formatting Output -> UX ⬆️ ✅\n",
    "print(f\"\"\"\n",
    "Your totals is {total:,}  \n",
    "Tax is {tax_percent*100}%   {tax:,}\n",
    "Your grand total is {grand_total:,}\n",
    "\"\"\")  # DX ⬆️ ✅"
   ]
  },
  {
   "cell_type": "code",
   "execution_count": 63,
   "metadata": {},
   "outputs": [
    {
     "name": "stdout",
     "output_type": "stream",
     "text": [
      "230\n"
     ]
    }
   ],
   "source": [
    "prices = [50, 80, 100]\n",
    "total = 0\n",
    "\n",
    "for price in prices:  # DX ⬆️ ✅\n",
    "    total = total + price\n",
    "\n",
    "#tax = total * tax_percent\n",
    "#grand_total = total +  tax\n",
    "\n",
    "print(total)\n",
    "#print(sum(prices))"
   ]
  }
 ],
 "metadata": {
  "kernelspec": {
   "display_name": "Python 3",
   "language": "python",
   "name": "python3"
  },
  "language_info": {
   "codemirror_mode": {
    "name": "ipython",
    "version": 3
   },
   "file_extension": ".py",
   "mimetype": "text/x-python",
   "name": "python",
   "nbconvert_exporter": "python",
   "pygments_lexer": "ipython3",
   "version": "3.13.0"
  }
 },
 "nbformat": 4,
 "nbformat_minor": 2
}
