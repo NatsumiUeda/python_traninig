{
 "cells": [
  {
   "cell_type": "code",
   "execution_count": 9,
   "metadata": {},
   "outputs": [
    {
     "name": "stdout",
     "output_type": "stream",
     "text": [
      "+------------+----------+--------+---------+\n",
      "|  Product   | Quantity | Price  |  Total  |\n",
      "+------------+----------+--------+---------+\n",
      "|   Laptop   |    2     | 999.99 | 1999.98 |\n",
      "| Smartphone |    1     | 499.99 | 499.99  |\n",
      "+------------+----------+--------+---------+\n",
      "Total Amount: 2499.97\n"
     ]
    }
   ],
   "source": [
    "from tabulate import tabulate\n",
    "\n",
    "products = [\n",
    "    {\"id\":1,\"Product\": \"Laptop\", \"price\": 999.99, \"stock\":10}, \n",
    "    {\"id\":1,\"Product\": \"Laptop\", \"price\": 999.99, \"stock\":10}, \n",
    "    {\"id\":2,\"Product\": \"Smartphone\",\"price\": 499.99,\"stock\": 15},  \n",
    "]\n",
    "\n",
    "Laptop_numbers = 0\n",
    "Smartphone_numbers = 0\n",
    "Laptop_total = 0\n",
    "Smartphone_total = 0\n",
    "\n",
    "\n",
    "for name in products:\n",
    "    if \"Laptop\" == name[\"Product\"]:\n",
    "       Laptop_numbers = Laptop_numbers + 1\n",
    "       Laptop_total = Laptop_total + name[\"price\"]\n",
    "       \n",
    "\n",
    "    elif \"Smartphone\" == name[\"Product\"]:\n",
    "       Smartphone_numbers = Smartphone_numbers + 1\n",
    "       Smartphone_total = Smartphone_total + name[\"price\"]\n",
    "    \n",
    "\n",
    "curt_name = []\n",
    "curt_name.append({\"Product\":\"Laptop\",\"Quantity\":Laptop_numbers,\"Price\":999.99,\"Total\":Laptop_total})\n",
    "curt_name.append({\"Product\":\"Smartphone\",\"Quantity\":Smartphone_numbers,\"Price\":499.99,\"Total\":Smartphone_total})\n",
    "\n",
    "print(tabulate(curt_name, headers=\"keys\", tablefmt=\"pretty\"))\n",
    "print(f\"Total Amount: {round(Laptop_total + Smartphone_total,2)}\")"
   ]
  }
 ],
 "metadata": {
  "kernelspec": {
   "display_name": "Python 3",
   "language": "python",
   "name": "python3"
  },
  "language_info": {
   "codemirror_mode": {
    "name": "ipython",
    "version": 3
   },
   "file_extension": ".py",
   "mimetype": "text/x-python",
   "name": "python",
   "nbconvert_exporter": "python",
   "pygments_lexer": "ipython3",
   "version": "3.13.0"
  }
 },
 "nbformat": 4,
 "nbformat_minor": 2
}
